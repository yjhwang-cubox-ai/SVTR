{
 "cells": [
  {
   "metadata": {
    "ExecuteTime": {
     "end_time": "2024-08-09T01:01:57.062618Z",
     "start_time": "2024-08-09T01:01:53.949691Z"
    }
   },
   "cell_type": "code",
   "source": [
    "import torch\n",
    "from torch import nn"
   ],
   "id": "fb4e80fbc52655a9",
   "outputs": [],
   "execution_count": 1
  },
  {
   "metadata": {
    "ExecuteTime": {
     "end_time": "2024-08-09T01:01:57.066784Z",
     "start_time": "2024-08-09T01:01:57.063943Z"
    }
   },
   "cell_type": "code",
   "source": [
    "class SVTR(nn.Module):\n",
    "    def __init__(self):\n",
    "        super(SVTR, self).__init__()\n",
    "        self.transfrom = None\n",
    "        self.backbone = None\n",
    "        self.neck = None\n",
    "        self.head = None\n",
    "    \n",
    "    def forward(self, x):\n",
    "        return x"
   ],
   "id": "194358fc900f43af",
   "outputs": [],
   "execution_count": 2
  },
  {
   "metadata": {},
   "cell_type": "code",
   "outputs": [],
   "execution_count": null,
   "source": "",
   "id": "cb55ae45f219e966"
  }
 ],
 "metadata": {
  "kernelspec": {
   "display_name": "Python 3",
   "language": "python",
   "name": "python3"
  },
  "language_info": {
   "codemirror_mode": {
    "name": "ipython",
    "version": 2
   },
   "file_extension": ".py",
   "mimetype": "text/x-python",
   "name": "python",
   "nbconvert_exporter": "python",
   "pygments_lexer": "ipython2",
   "version": "2.7.6"
  }
 },
 "nbformat": 4,
 "nbformat_minor": 5
}
