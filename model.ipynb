{
 "cells": [
  {
   "cell_type": "code",
   "execution_count": 1,
   "id": "fb4e80fbc52655a9",
   "metadata": {
    "ExecuteTime": {
     "end_time": "2024-08-09T01:01:57.062618Z",
     "start_time": "2024-08-09T01:01:53.949691Z"
    }
   },
   "outputs": [],
   "source": [
    "import numpy as np\n",
    "import torch\n",
    "import torch.nn as nn\n",
    "import torch.nn.functional as F\n",
    "from torch.utils.data import Dataset, DataLoader, random_split\n",
    "from torch.utils.data import DataLoader\n",
    "import lightning as L\n",
    "from lightning.pytorch.loggers import WandbLogger, TensorBoardLogger\n",
    "from lightning.pytorch.callbacks.early_stopping import EarlyStopping\n",
    "from lightning.pytorch.callbacks import ModelSummary\n",
    "from lightning.pytorch.profilers import SimpleProfiler\n",
    "import wandb\n",
    "\n",
    "from stn import STN_ON\n",
    "from svtrnet import SVTRNet\n",
    "from rnn import SequenceEncoder\n",
    "from ctc_head import CTCHead\n",
    "from dataloader.dataset import TNGODataset\n",
    "from rec_postprocess import CTCLabelDecode"
   ]
  },
  {
   "cell_type": "code",
   "execution_count": 32,
   "id": "5f2af7de",
   "metadata": {},
   "outputs": [],
   "source": [
    "class LitSVTR(L.LightningModule):\n",
    "    def __init__(self):\n",
    "        super().__init__()\n",
    "        self.transform = STN_ON()\n",
    "        self.backbone = SVTRNet()\n",
    "        self.neck = SequenceEncoder(in_channels=384, encoder_type=\"reshape\")\n",
    "        self.head = CTCHead(in_channels=384, out_channels=228)\n",
    "        self.criterion = torch.nn.CTCLoss(zero_infinity=True)        \n",
    "        self.save_hyperparameters()\n",
    "\n",
    "    def training_step(self, batch, batch_idx):\n",
    "        image, label, label_length = batch['image'], batch['label'], batch['length']\n",
    "        x = self.transform(image)\n",
    "        x = self.backbone(x)\n",
    "        x = self.neck(x)\n",
    "        output = self.head(x)\n",
    "        permuted_output = output[0].permute(1, 0, 2)\n",
    "        N, B, _ = permuted_output.shape\n",
    "        output_length = torch.tensor([N]*B, dtype=torch.long)\n",
    "        loss = self.criterion(permuted_output, label, output_length, label_length)\n",
    "        self.log(\"train_loss\", loss)\n",
    "        return loss\n",
    "    \n",
    "    def validation_step(self, batch, batch_idx):\n",
    "        image, label, label_length = batch['image'], batch['label'], batch['length']\n",
    "        x = self.transform(image)\n",
    "        x = self.backbone(x)\n",
    "        x = self.neck(x)\n",
    "        output = self.head(x)\n",
    "        permuted_output = output[0].permute(1, 0, 2)\n",
    "        N, B, _ = permuted_output.shape\n",
    "        output_length = torch.tensor([N]*B, dtype=torch.long)\n",
    "        loss = self.criterion(permuted_output, label, output_length, label_length)\n",
    "        self.log(\"val_loss\", loss)\n",
    "        return loss\n",
    "    \n",
    "    def test_step(self, batch, batch_idx):\n",
    "        image, label, label_length = batch['image'], batch['label'], batch['length']\n",
    "        x = self.transform(image)\n",
    "        x = self.backbone(x)\n",
    "        x = self.neck(x)\n",
    "        output = self.head(x)\n",
    "        permuted_output = output[0].permute(1, 0, 2)\n",
    "        N, B, _ = permuted_output.shape\n",
    "        output_length = torch.tensor([N]*B, dtype=torch.long)\n",
    "        loss = self.criterion(permuted_output, label, output_length, label_length)\n",
    "        self.log(\"test_loss\", loss)\n",
    "        return loss\n",
    "\n",
    "    def configure_optimizers(self):\n",
    "        optimizer = torch.optim.AdamW(self.parameters(), lr=2.5 / (10**4), weight_decay=0.05)\n",
    "        return optimizer\n",
    "    \n",
    "    def forward(self, x):\n",
    "        x = self.transform(x)\n",
    "        x = self.backbone(x)\n",
    "        x = self.neck(x)\n",
    "        x = self.head(x)\n",
    "        return x"
   ]
  },
  {
   "cell_type": "code",
   "execution_count": 33,
   "id": "a56dc414",
   "metadata": {},
   "outputs": [],
   "source": [
    "model = LitSVTR()"
   ]
  },
  {
   "cell_type": "code",
   "execution_count": 34,
   "id": "93c732ac",
   "metadata": {},
   "outputs": [],
   "source": [
    "data = torch.randn(3,3,64,200)"
   ]
  },
  {
   "cell_type": "code",
   "execution_count": 36,
   "id": "7538f657",
   "metadata": {},
   "outputs": [
    {
     "name": "stdout",
     "output_type": "stream",
     "text": [
      "(tensor([[[-5.3292, -5.3887, -5.5442,  ..., -5.3901, -5.7036, -5.3127],\n",
      "         [-5.3604, -5.5886, -5.5700,  ..., -5.4864, -5.4082, -5.2874],\n",
      "         [-5.3934, -5.5143, -5.3608,  ..., -5.6791, -5.5466, -5.3420],\n",
      "         ...,\n",
      "         [-5.3495, -5.6305, -5.5196,  ..., -5.6110, -5.3837, -5.4450],\n",
      "         [-5.2740, -5.5005, -5.5561,  ..., -5.5618, -5.5543, -5.3591],\n",
      "         [-5.5143, -5.3324, -5.3566,  ..., -5.4195, -5.5106, -5.3526]],\n",
      "\n",
      "        [[-5.3880, -5.5124, -5.4925,  ..., -5.5264, -5.6279, -5.4979],\n",
      "         [-5.4535, -5.5706, -5.5068,  ..., -5.6015, -5.4023, -5.3388],\n",
      "         [-5.4316, -5.4360, -5.2944,  ..., -5.5977, -5.4082, -5.3362],\n",
      "         ...,\n",
      "         [-5.3925, -5.3003, -5.4736,  ..., -5.3267, -5.5204, -5.5819],\n",
      "         [-5.2556, -5.3577, -5.5833,  ..., -5.3967, -5.5319, -5.4793],\n",
      "         [-5.2211, -5.4525, -5.4842,  ..., -5.4151, -5.4296, -5.4203]],\n",
      "\n",
      "        [[-5.4516, -5.5308, -5.3927,  ..., -5.4739, -5.4734, -5.3238],\n",
      "         [-5.4681, -5.4653, -5.3301,  ..., -5.5416, -5.3369, -5.4378],\n",
      "         [-5.4468, -5.3528, -5.3344,  ..., -5.4992, -5.6167, -5.3228],\n",
      "         ...,\n",
      "         [-5.2065, -5.3230, -5.4645,  ..., -5.3834, -5.4894, -5.2240],\n",
      "         [-5.3249, -5.2711, -5.1394,  ..., -5.4668, -5.5620, -5.4919],\n",
      "         [-5.4401, -5.4949, -5.5922,  ..., -5.4018, -5.4060, -5.0699]]],\n",
      "       grad_fn=<LogSoftmaxBackward0>), None)\n"
     ]
    }
   ],
   "source": [
    "x = model(data)\n",
    "print(x)"
   ]
  },
  {
   "cell_type": "code",
   "execution_count": null,
   "id": "4575665b",
   "metadata": {},
   "outputs": [],
   "source": []
  },
  {
   "cell_type": "code",
   "execution_count": null,
   "id": "ba7da179",
   "metadata": {},
   "outputs": [],
   "source": []
  }
 ],
 "metadata": {
  "kernelspec": {
   "display_name": "Python 3",
   "language": "python",
   "name": "python3"
  },
  "language_info": {
   "codemirror_mode": {
    "name": "ipython",
    "version": 3
   },
   "file_extension": ".py",
   "mimetype": "text/x-python",
   "name": "python",
   "nbconvert_exporter": "python",
   "pygments_lexer": "ipython3",
   "version": "3.9.19"
  }
 },
 "nbformat": 4,
 "nbformat_minor": 5
}
